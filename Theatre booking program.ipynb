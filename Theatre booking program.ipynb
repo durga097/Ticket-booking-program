{
 "cells": [
  {
   "cell_type": "code",
   "execution_count": 4,
   "id": "1c3ad6f7-fc21-4fe3-bc48-4621061b4807",
   "metadata": {},
   "outputs": [
    {
     "name": "stdout",
     "output_type": "stream",
     "text": [
      "Inox\n"
     ]
    },
    {
     "name": "stdin",
     "output_type": "stream",
     "text": [
      "Enter the movie name:  captain america\n"
     ]
    },
    {
     "name": "stdout",
     "output_type": "stream",
     "text": [
      "Choose a seat type:\n",
      "1. Standard Seat (Price: 300)\n",
      "2. Premium Seat (Price: 600)\n"
     ]
    },
    {
     "name": "stdin",
     "output_type": "stream",
     "text": [
      "Enter your choice (1 or 2):  1\n",
      "Enter the number of seats you want:  1\n",
      "Add a combo? (yes/no):  yes\n",
      "Select a combo (A: Popcorn + Soda for 150, B: Pizza + Drinks for 400):  A\n",
      "Enter the quantity:  1\n"
     ]
    },
    {
     "name": "stdout",
     "output_type": "stream",
     "text": [
      "__________________________________________________\n",
      "Bill: 450\n",
      "__________________________________________________\n"
     ]
    },
    {
     "name": "stdin",
     "output_type": "stream",
     "text": [
      "Is there another person booking? (yes/no):  yes\n"
     ]
    },
    {
     "name": "stdout",
     "output_type": "stream",
     "text": [
      "Inox\n"
     ]
    },
    {
     "name": "stdin",
     "output_type": "stream",
     "text": [
      "Enter the movie name:  captain marvel\n"
     ]
    },
    {
     "name": "stdout",
     "output_type": "stream",
     "text": [
      "Choose a seat type:\n",
      "1. Standard Seat (Price: 300)\n",
      "2. Premium Seat (Price: 600)\n"
     ]
    },
    {
     "name": "stdin",
     "output_type": "stream",
     "text": [
      "Enter your choice (1 or 2):  2\n",
      "Enter the number of seats you want:  2\n",
      "Add a combo? (yes/no):  yes\n",
      "Select a combo (A: Popcorn + Soda for 150, B: Pizza + Drinks for 400):  B\n",
      "Enter the quantity:  1\n"
     ]
    },
    {
     "name": "stdout",
     "output_type": "stream",
     "text": [
      "__________________________________________________\n",
      "Bill: 1600\n",
      "__________________________________________________\n"
     ]
    },
    {
     "name": "stdin",
     "output_type": "stream",
     "text": [
      "Is there another person booking? (yes/no):  no\n"
     ]
    }
   ],
   "source": [
    "price_standard = 300\n",
    "price_premium = 600\n",
    "total = 0\n",
    "available_standard_seats = 50\n",
    "available_premium_seats = 20\n",
    "\n",
    "while True:\n",
    "    cinema_name = \"Inox\"\n",
    "    print(cinema_name)\n",
    "    \n",
    "    movie_name = input(\"Enter the movie name: \")\n",
    "    print(\"Choose a seat type:\")\n",
    "    print(\"1. Standard Seat (Price: 300)\")\n",
    "    print(\"2. Premium Seat (Price: 600)\")\n",
    "    seat_choice = int(input(\"Enter your choice (1 or 2): \"))\n",
    "    num_seats = int(input(\"Enter the number of seats you want: \"))\n",
    "\n",
    "    if seat_choice == 1:\n",
    "        if num_seats > available_standard_seats:\n",
    "            print(\"Sorry, standard seats are not available.\")\n",
    "        else:\n",
    "            total = num_seats * price_standard\n",
    "            available_standard_seats -= num_seats\n",
    "    elif seat_choice == 2:\n",
    "        if num_seats > available_premium_seats:\n",
    "            print(\"Sorry, premium seats are not available.\")\n",
    "        else:\n",
    "            total = num_seats * price_premium\n",
    "            available_premium_seats -= num_seats\n",
    "    else:\n",
    "        print(\"Invalid choice. Please choose 1 or 2.\")\n",
    "\n",
    "    add_combo = input(\"Add a combo? (yes/no): \")\n",
    "    if add_combo == \"yes\":\n",
    "        combo_choice = input(\"Select a combo (A: Popcorn + Soda for 150, B: Pizza + Drinks for 400): \")\n",
    "        combo_quantity = int(input(\"Enter the quantity: \"))\n",
    "        if combo_choice == \"A\":\n",
    "            total += combo_quantity * 150\n",
    "        elif combo_choice == \"B\":\n",
    "            total += combo_quantity * 400\n",
    "\n",
    "    print(\"_\" * 50)\n",
    "    print(\"Bill: \" + str(total))\n",
    "    print(\"_\" * 50)\n",
    "\n",
    "\n",
    "    next_person = input(\"Is there another person booking? (yes/no): \")\n",
    "    if next_person != \"yes\":\n",
    "        break\n"
   ]
  }
 ],
 "metadata": {
  "kernelspec": {
   "display_name": "Python 3 (ipykernel)",
   "language": "python",
   "name": "python3"
  },
  "language_info": {
   "codemirror_mode": {
    "name": "ipython",
    "version": 3
   },
   "file_extension": ".py",
   "mimetype": "text/x-python",
   "name": "python",
   "nbconvert_exporter": "python",
   "pygments_lexer": "ipython3",
   "version": "3.12.0"
  }
 },
 "nbformat": 4,
 "nbformat_minor": 5
}
